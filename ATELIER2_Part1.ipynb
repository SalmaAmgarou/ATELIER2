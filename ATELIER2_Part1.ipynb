{
 "cells": [
  {
   "cell_type": "markdown",
   "id": "ffd8ab85-6b18-4307-9f43-2a89e6bc63ea",
   "metadata": {},
   "source": [
    "# Part 1:Rule Based NLP and Regex:"
   ]
  },
  {
   "cell_type": "code",
   "execution_count": 16,
   "id": "563e4e9c-81b5-4ab4-9a3b-94241d4c9687",
   "metadata": {},
   "outputs": [],
   "source": [
    "import re\n",
    "import pandas as pd\n",
    "from tabulate import tabulate # to make data into table"
   ]
  },
  {
   "cell_type": "markdown",
   "id": "abad0a3c-02d8-43d5-a6a2-0d3e8e6eb3e1",
   "metadata": {},
   "source": [
    "## Using Regex and Rule Bases NLP we will generate a bill from a text given by the user.\n",
    "## Use case:"
   ]
  },
  {
   "cell_type": "code",
   "execution_count": 2,
   "id": "88ff93c5-ea89-4ea3-b124-457592d2c12e",
   "metadata": {},
   "outputs": [],
   "source": [
    "text = \"I bought three Samsung smartphones 150 $ each, four kilos of fresh banana for 1,2 dollar a kilogram and one Hamburger with 4,5 dollar\""
   ]
  },
  {
   "cell_type": "markdown",
   "id": "abaaface-4767-45b2-8bb3-c30dd2a0490e",
   "metadata": {},
   "source": [
    "## We define stopwords in our use case to eliminate unnecessary words disturbing our item extraction"
   ]
  },
  {
   "cell_type": "code",
   "execution_count": 3,
   "id": "5a37caaa-1662-47e6-a474-6bb83adf8635",
   "metadata": {},
   "outputs": [],
   "source": [
    "stop_words = [\"bought\", \"for\", \"fresh\", \"i\", \"each\", \"kilos\", \"of\", \"a\", \"an\", \"with\", \"and\", \"dollar\", \"kilogram\"]"
   ]
  },
  {
   "cell_type": "markdown",
   "id": "9948742b-e7fb-49ef-84a2-7e17c8453223",
   "metadata": {},
   "source": [
    "## We remove the stop words from our text"
   ]
  },
  {
   "cell_type": "code",
   "execution_count": 4,
   "id": "a5a8d723-f6d8-4329-8b9c-27ed617c0522",
   "metadata": {},
   "outputs": [
    {
     "data": {
      "text/plain": [
       "'three Samsung smartphones 150 $ each, four banana 1,2 one Hamburger 4,5'"
      ]
     },
     "execution_count": 4,
     "metadata": {},
     "output_type": "execute_result"
    }
   ],
   "source": [
    "# Supprimer les mots vides\n",
    "cleaned_text = ' '.join(word for word in text.split() if word.lower() not in stop_words)\n",
    "cleaned_text"
   ]
  },
  {
   "cell_type": "code",
   "execution_count": 5,
   "id": "6ef882f4-6dce-46ea-a2c9-0e0c0affdb64",
   "metadata": {},
   "outputs": [
    {
     "data": {
      "text/plain": [
       "['three Samsung smartphones', 'four banana', 'one Hamburger']"
      ]
     },
     "execution_count": 5,
     "metadata": {},
     "output_type": "execute_result"
    }
   ],
   "source": [
    "item_pattern = r'(?:[A-Za-z]+\\s)+[A-Za-z]+'\n",
    "items = re.findall(item_pattern, cleaned_text)\n",
    "items"
   ]
  },
  {
   "cell_type": "code",
   "execution_count": 6,
   "id": "7066aea4-f0e9-4bda-9e6e-4c9f0caf6ac5",
   "metadata": {},
   "outputs": [
    {
     "data": {
      "text/plain": [
       "['three', 'four', 'one']"
      ]
     },
     "execution_count": 6,
     "metadata": {},
     "output_type": "execute_result"
    }
   ],
   "source": [
    "quantity_pattern = r'\\b(?:one|two|three|four|five|six|seven|eight|nine|ten)\\b'\n",
    "quantities = re.findall(quantity_pattern, cleaned_text)\n",
    "quantities"
   ]
  },
  {
   "cell_type": "markdown",
   "id": "1f9b3671-d8e2-4881-b149-464edde8ba84",
   "metadata": {},
   "source": [
    "## Removing the \"quantities\" words from the \"items\" as they are also words "
   ]
  },
  {
   "cell_type": "code",
   "execution_count": 7,
   "id": "cac9dae6-7890-4824-b73d-b0a3a4128b0e",
   "metadata": {},
   "outputs": [],
   "source": [
    "def extract_items_without_quantities(items, quantities):\n",
    "    # Parcourir les éléments et les quantités\n",
    "    for i, item in enumerate(items):\n",
    "        for quantity in quantities:\n",
    "            # Supprimer la quantité de l'élément\n",
    "            item = item.replace(quantity, '').strip()\n",
    "        # Mettre à jour l'élément dans la liste des éléments\n",
    "        items[i] = item\n",
    "    return items "
   ]
  },
  {
   "cell_type": "code",
   "execution_count": 8,
   "id": "c607d95a-b833-41cd-ad8d-55278152a0e6",
   "metadata": {},
   "outputs": [
    {
     "data": {
      "text/plain": [
       "['Samsung smartphones', 'banana', 'Hamburger']"
      ]
     },
     "execution_count": 8,
     "metadata": {},
     "output_type": "execute_result"
    }
   ],
   "source": [
    "items = [re.sub(quantity_pattern, '', item).strip() for item in items]\n",
    "items"
   ]
  },
  {
   "cell_type": "code",
   "execution_count": 9,
   "id": "a9058ddb-5f02-43d8-b988-b681e98c9e35",
   "metadata": {},
   "outputs": [
    {
     "name": "stdout",
     "output_type": "stream",
     "text": [
      "Test Items before: ['three Samsung smartphones', 'four kilos of banana', 'one Hamburger']\n",
      "Test Quantities: ['three', 'four', 'one']\n",
      "Test Items after: ['Samsung smartphs', 'kilos of banana', 'Hamburger']\n"
     ]
    }
   ],
   "source": [
    "# Testons la fonction\n",
    "test_items = [\"three Samsung smartphones\", \"four kilos of banana\", \"one Hamburger\"]\n",
    "test_quantities = [\"three\", \"four\", \"one\"]\n",
    "\n",
    "print(\"Test Items before:\", test_items)\n",
    "print(\"Test Quantities:\", test_quantities)\n",
    "\n",
    "test_items = extract_items_without_quantities(test_items, test_quantities)\n",
    "print(\"Test Items after:\", test_items)"
   ]
  },
  {
   "cell_type": "markdown",
   "id": "f0f34698-c45c-4815-b141-09c27ef19b5c",
   "metadata": {},
   "source": [
    "## Extract the numbers int or float from the text "
   ]
  },
  {
   "cell_type": "code",
   "execution_count": 10,
   "id": "5969a0a6-cae0-405b-ad53-2c743d9c291c",
   "metadata": {},
   "outputs": [
    {
     "data": {
      "text/plain": [
       "['150', '1,2', '4,5']"
      ]
     },
     "execution_count": 10,
     "metadata": {},
     "output_type": "execute_result"
    }
   ],
   "source": [
    "price_pattern = r'\\d+(?:\\,\\d+)?'\n",
    "prices = re.findall(price_pattern, text)\n",
    "prices"
   ]
  },
  {
   "cell_type": "markdown",
   "id": "0e2d8c9d-097c-4a01-8b0a-3390e89692f3",
   "metadata": {},
   "source": [
    "## Converting the quantities of the items from string to int by mapping them "
   ]
  },
  {
   "cell_type": "code",
   "execution_count": 11,
   "id": "046aa634-5f11-4b86-918a-8685e59a57f0",
   "metadata": {},
   "outputs": [
    {
     "data": {
      "text/plain": [
       "[3, 4, 1]"
      ]
     },
     "execution_count": 11,
     "metadata": {},
     "output_type": "execute_result"
    }
   ],
   "source": [
    "quantity_mapping = {'one': 1, 'two': 2, 'three': 3, 'four': 4, 'five': 5,\n",
    "                        'six': 6, 'seven': 7, 'eight': 8, 'nine': 9, 'ten': 10}\n",
    "quantities = [quantity_mapping[q.lower()] for q in quantities]\n",
    "quantities"
   ]
  },
  {
   "cell_type": "markdown",
   "id": "28ecfb84-1a8f-4341-9f89-d12803e48d4f",
   "metadata": {},
   "source": [
    "## Converting the unit prices extracted from string to float and calculating the total price "
   ]
  },
  {
   "cell_type": "code",
   "execution_count": 12,
   "id": "3ea0442c-a09d-4c7f-90f1-94f0ad497aeb",
   "metadata": {},
   "outputs": [
    {
     "data": {
      "text/plain": [
       "[450.0, 4.8, 4.5]"
      ]
     },
     "execution_count": 12,
     "metadata": {},
     "output_type": "execute_result"
    }
   ],
   "source": [
    "prices = [float(p.replace(',', '.')) for p in prices]\n",
    "\n",
    "total_prices = [quantity * price for quantity, price in zip(quantities, prices)]\n",
    "total_prices"
   ]
  },
  {
   "cell_type": "markdown",
   "id": "0e523e2b-7efb-4792-99d6-a306384d8f52",
   "metadata": {},
   "source": [
    "## Creating a dataframe with our extracted data "
   ]
  },
  {
   "cell_type": "code",
   "execution_count": 13,
   "id": "d8be33d1-eb88-4128-b391-66a88d165c94",
   "metadata": {},
   "outputs": [
    {
     "data": {
      "text/html": [
       "<div>\n",
       "<style scoped>\n",
       "    .dataframe tbody tr th:only-of-type {\n",
       "        vertical-align: middle;\n",
       "    }\n",
       "\n",
       "    .dataframe tbody tr th {\n",
       "        vertical-align: top;\n",
       "    }\n",
       "\n",
       "    .dataframe thead th {\n",
       "        text-align: right;\n",
       "    }\n",
       "</style>\n",
       "<table border=\"1\" class=\"dataframe\">\n",
       "  <thead>\n",
       "    <tr style=\"text-align: right;\">\n",
       "      <th></th>\n",
       "      <th>Product</th>\n",
       "      <th>Quantity</th>\n",
       "      <th>Unit Price</th>\n",
       "      <th>Total Price</th>\n",
       "    </tr>\n",
       "  </thead>\n",
       "  <tbody>\n",
       "    <tr>\n",
       "      <th>0</th>\n",
       "      <td>Samsung smartphones</td>\n",
       "      <td>3</td>\n",
       "      <td>150.0</td>\n",
       "      <td>450.0</td>\n",
       "    </tr>\n",
       "    <tr>\n",
       "      <th>1</th>\n",
       "      <td>banana</td>\n",
       "      <td>4</td>\n",
       "      <td>1.2</td>\n",
       "      <td>4.8</td>\n",
       "    </tr>\n",
       "    <tr>\n",
       "      <th>2</th>\n",
       "      <td>Hamburger</td>\n",
       "      <td>1</td>\n",
       "      <td>4.5</td>\n",
       "      <td>4.5</td>\n",
       "    </tr>\n",
       "  </tbody>\n",
       "</table>\n",
       "</div>"
      ],
      "text/plain": [
       "               Product  Quantity  Unit Price  Total Price\n",
       "0  Samsung smartphones         3       150.0        450.0\n",
       "1               banana         4         1.2          4.8\n",
       "2            Hamburger         1         4.5          4.5"
      ]
     },
     "execution_count": 13,
     "metadata": {},
     "output_type": "execute_result"
    }
   ],
   "source": [
    "# Créer un DataFrame\n",
    "df = pd.DataFrame({\n",
    "    'Product': items,\n",
    "    'Quantity': quantities,\n",
    "    'Unit Price': prices,\n",
    "    'Total Price': total_prices\n",
    "})\n",
    "df"
   ]
  },
  {
   "cell_type": "code",
   "execution_count": 14,
   "id": "67511125-5982-4446-add8-3cf289bb5d66",
   "metadata": {},
   "outputs": [
    {
     "name": "stdout",
     "output_type": "stream",
     "text": [
      "Generated Bill:\n",
      "+---------------------+------------+--------------+---------------+\n",
      "| Product             |   Quantity |   Unit Price |   Total Price |\n",
      "+=====================+============+==============+===============+\n",
      "| Samsung smartphones |          3 |        150   |         450   |\n",
      "+---------------------+------------+--------------+---------------+\n",
      "| banana              |          4 |          1.2 |           4.8 |\n",
      "+---------------------+------------+--------------+---------------+\n",
      "| Hamburger           |          1 |          4.5 |           4.5 |\n",
      "+---------------------+------------+--------------+---------------+\n"
     ]
    }
   ],
   "source": [
    "def generate_bill(text):\n",
    "    # Définir les mots vides\n",
    "    stop_words = [\"bought\", \"for\", \"fresh\", \"i\", \"each\", \"kilos\", \"of\", \"a\", \"an\", \"with\", \"and\", \"dollar\", \"kilogram\"]\n",
    "\n",
    "    # Supprimer les mots vides\n",
    "    cleaned_text = ' '.join(word for word in text.split() if word.lower() not in stop_words)\n",
    "\n",
    "    # Définir les motifs regex pour correspondre aux éléments, quantités et prix\n",
    "    item_pattern = r'(?:[A-Za-z]+\\s)+[A-Za-z]+'\n",
    "    price_pattern = r'\\d+(?:\\,\\d+)?'\n",
    "    quantity_pattern = r'\\b(?:one|two|three|four|five|six|seven|eight|nine|ten)\\b'\n",
    "\n",
    "    # Extraire les éléments, les quantités et les prix à l'aide des expressions régulières\n",
    "    items = re.findall(item_pattern, cleaned_text)\n",
    "    prices = re.findall(price_pattern, text)\n",
    "    quantities = re.findall(quantity_pattern, text)\n",
    "\n",
    "    # Supprimer les quantités des éléments\n",
    "    items = [re.sub(quantity_pattern, '', item).strip() for item in items]\n",
    "\n",
    "    # Convertir les quantités en integers\n",
    "    quantity_mapping = {'one': 1, 'two': 2, 'three': 3, 'four': 4, 'five': 5,\n",
    "                        'six': 6, 'seven': 7, 'eight': 8, 'nine': 9, 'ten': 10}\n",
    "    quantities = [quantity_mapping[q.lower()] for q in quantities]\n",
    "\n",
    "    # Convertir les prix en nombres floats\n",
    "    prices = [float(p.replace(',', '.')) for p in prices]\n",
    "\n",
    "    # Calculer total prices\n",
    "    total_prices = [quantity * price for quantity, price in zip(quantities, prices)]\n",
    "\n",
    "    # Créer un DataFrame\n",
    "    df = pd.DataFrame({\n",
    "        'Product': items,\n",
    "        'Quantity': quantities,\n",
    "        'Unit Price': prices,\n",
    "        'Total Price': total_prices\n",
    "    })\n",
    "\n",
    "    # Imprimer Bill  sous forme de tableau\n",
    "    print(\"Generated Bill:\")\n",
    "    print(tabulate(df, headers='keys', tablefmt='grid', showindex=False))\n",
    "\n",
    "text = \"I bought three Samsung smartphones 150 $ each, four kilos of fresh banana for 1,2 dollar a kilogram and one Hamburger with 4,5 dollar\"\n",
    "generate_bill(text)"
   ]
  },
  {
   "cell_type": "code",
   "execution_count": 15,
   "id": "5523d388-4571-497c-8bec-3c0d345fb8c6",
   "metadata": {},
   "outputs": [
    {
     "data": {
      "text/html": [
       "<div>\n",
       "<style scoped>\n",
       "    .dataframe tbody tr th:only-of-type {\n",
       "        vertical-align: middle;\n",
       "    }\n",
       "\n",
       "    .dataframe tbody tr th {\n",
       "        vertical-align: top;\n",
       "    }\n",
       "\n",
       "    .dataframe thead th {\n",
       "        text-align: right;\n",
       "    }\n",
       "</style>\n",
       "<table border=\"1\" class=\"dataframe\">\n",
       "  <thead>\n",
       "    <tr style=\"text-align: right;\">\n",
       "      <th></th>\n",
       "      <th>Product</th>\n",
       "      <th>Quantity</th>\n",
       "      <th>Unit Price</th>\n",
       "      <th>Total Price</th>\n",
       "    </tr>\n",
       "  </thead>\n",
       "  <tbody>\n",
       "    <tr>\n",
       "      <th>0</th>\n",
       "      <td>Samsung smartphones</td>\n",
       "      <td>3</td>\n",
       "      <td>150.0</td>\n",
       "      <td>450.0</td>\n",
       "    </tr>\n",
       "    <tr>\n",
       "      <th>1</th>\n",
       "      <td>banana</td>\n",
       "      <td>4</td>\n",
       "      <td>1.2</td>\n",
       "      <td>4.8</td>\n",
       "    </tr>\n",
       "    <tr>\n",
       "      <th>2</th>\n",
       "      <td>Hamburger</td>\n",
       "      <td>1</td>\n",
       "      <td>4.5</td>\n",
       "      <td>4.5</td>\n",
       "    </tr>\n",
       "  </tbody>\n",
       "</table>\n",
       "</div>"
      ],
      "text/plain": [
       "               Product  Quantity  Unit Price  Total Price\n",
       "0  Samsung smartphones         3       150.0        450.0\n",
       "1               banana         4         1.2          4.8\n",
       "2            Hamburger         1         4.5          4.5"
      ]
     },
     "execution_count": 15,
     "metadata": {},
     "output_type": "execute_result"
    }
   ],
   "source": [
    "df"
   ]
  },
  {
   "cell_type": "markdown",
   "id": "0c83a2a5-2a76-4b68-ad17-af37a9a95d88",
   "metadata": {},
   "source": [
    "# Potential improvements could be generalizing it to any user input"
   ]
  }
 ],
 "metadata": {
  "kernelspec": {
   "display_name": "Python 3 (ipykernel)",
   "language": "python",
   "name": "python3"
  },
  "language_info": {
   "codemirror_mode": {
    "name": "ipython",
    "version": 3
   },
   "file_extension": ".py",
   "mimetype": "text/x-python",
   "name": "python",
   "nbconvert_exporter": "python",
   "pygments_lexer": "ipython3",
   "version": "3.10.12"
  }
 },
 "nbformat": 4,
 "nbformat_minor": 5
}
